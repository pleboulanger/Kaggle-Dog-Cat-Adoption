{
 "cells": [
  {
   "cell_type": "code",
   "execution_count": 2,
   "metadata": {},
   "outputs": [],
   "source": [
    "# imports\n",
    "\n",
    "import os, random"
   ]
  },
  {
   "cell_type": "code",
   "execution_count": 3,
   "metadata": {},
   "outputs": [],
   "source": [
    "# paths\n",
    "\n",
    "dog_train=\"data/train/dog/0/\"\n",
    "cat_train=\"data/train/cat/0/\"\n",
    "dog_validation=\"data/validation/dog/0/\"\n",
    "cat_validation=\"data/validation/cat/0/\"\n",
    "dog_test=\"data/test/dog/0/\"\n",
    "cat_test=\"data/test/cat/0/\""
   ]
  },
  {
   "cell_type": "code",
   "execution_count": 25,
   "metadata": {},
   "outputs": [],
   "source": [
    "# print one directory's content (tif files' names and total number)\n",
    "\n",
    "def dir_content(dir):\n",
    "    '''\n",
    "    print one directory's content (tif files' names and total number)\n",
    "    '''\n",
    "    i=0\n",
    "    for subdir, dirs, files in os.walk(dir):\n",
    "        for file in files:\n",
    "            filepath = subdir + os.sep + file\n",
    "            if filepath.endswith(\".jpg\"):\n",
    "                print(file)\n",
    "                i=i+1\n",
    "    print (i)\n",
    "    return\n",
    "\n",
    "#dir_content(dog_test)"
   ]
  },
  {
   "cell_type": "code",
   "execution_count": 14,
   "metadata": {},
   "outputs": [],
   "source": [
    "# kill n random files in dir\n",
    "\n",
    "def kill_n_files(dir, n):\n",
    "    '''\n",
    "    kill n random files in dir\n",
    "    there must be no directory inside dir\n",
    "    '''\n",
    "    for i in range(n):\n",
    "        os.remove(dir + os.sep + random.choice(os.listdir(dir)))\n",
    "        print(i)\n",
    "    return\n",
    "\n",
    "#kill_n_files(dog_train, 1238)"
   ]
  },
  {
   "cell_type": "code",
   "execution_count": 26,
   "metadata": {},
   "outputs": [],
   "source": [
    "# move n images from source to destination\n",
    "\n",
    "def move_n_random_elements(source, destination, n):\n",
    "    '''\n",
    "    move n images from source to destination\n",
    "    there must be no directory inside source\n",
    "    '''\n",
    "    i = 0\n",
    "    while i < n:\n",
    "        name = random.choice(os.listdir(source))\n",
    "        filepath = source + os.sep + name\n",
    "        if filepath.endswith(\".jpg\"):\n",
    "                #print(name)\n",
    "                os.rename(source + os.sep + name, destination + os.sep + name)\n",
    "                i = i+1\n",
    "        print(i)\n",
    "    dir_content(destination)\n",
    "    return\n",
    "\n",
    "#move_n_random_elements(cat_train, cat_test, 700)"
   ]
  },
  {
   "cell_type": "code",
   "execution_count": null,
   "metadata": {},
   "outputs": [],
   "source": [
    "# move all cat's first pictures to data/train/cat/0\n",
    "\n",
    "i=0\n",
    "for i in range(14993):\n",
    "    if ((train[i, 0]==2)):\n",
    "        try:\n",
    "            os.rename('images/'+str(train[i, 21])+'-1.jpg', 'data/train/cat/0/'+str(train[i, 21])+'-1.jpg')\n",
    "        except:\n",
    "            print('oups')\n",
    "            pass\n",
    "    "
   ]
  }
 ],
 "metadata": {
  "kernelspec": {
   "display_name": "Python 3",
   "language": "python",
   "name": "python3"
  },
  "language_info": {
   "codemirror_mode": {
    "name": "ipython",
    "version": 3
   },
   "file_extension": ".py",
   "mimetype": "text/x-python",
   "name": "python",
   "nbconvert_exporter": "python",
   "pygments_lexer": "ipython3",
   "version": "3.5.2"
  }
 },
 "nbformat": 4,
 "nbformat_minor": 2
}

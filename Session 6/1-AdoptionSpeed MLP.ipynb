{
 "cells": [
  {
   "cell_type": "markdown",
   "metadata": {},
   "source": [
    "### Import some libraries:\n"
   ]
  },
  {
   "cell_type": "code",
   "execution_count": 118,
   "metadata": {},
   "outputs": [],
   "source": [
    "import keras\n",
    "from keras.models import Sequential\n",
    "from keras.layers import Dense, Activation, Dropout\n",
    "import sklearn.model_selection\n",
    "import numpy as np\n",
    "import pandas as pd\n",
    "from matplotlib import pyplot as plt"
   ]
  },
  {
   "cell_type": "markdown",
   "metadata": {},
   "source": [
    "### Load .csv file and separate features from labels:\n"
   ]
  },
  {
   "cell_type": "code",
   "execution_count": 119,
   "metadata": {},
   "outputs": [],
   "source": [
    "train = pd.read_csv('train.csv')  # load .csv file as a Panda Data Frame object\n",
    "#print(train)\n",
    "\n",
    "to_drop_columns = ['Type', 'Name', 'Breed1', 'Breed2', 'Gender', 'Color1', 'Color2', 'Color3', 'MaturitySize', 'FurLength', 'Vaccinated', 'Dewormed', 'Sterilized', 'Health', 'Fee', 'State', 'RescuerID', 'VideoAmt', 'Description', 'PetID']\n",
    "\n",
    "train = train.drop(to_drop_columns, axis=1)\n",
    "\n",
    "Y = train['AdoptionSpeed']\n",
    "X = train.drop(['AdoptionSpeed'], axis=1)\n",
    "\n",
    "#print(X)\n",
    "#print(Y)\n",
    "\n",
    "(x, y) = (X.values, Y.values)  # store features and labels into Numpy arrays (~= matrices in Python)"
   ]
  },
  {
   "cell_type": "markdown",
   "metadata": {},
   "source": [
    "### Scaling features into [0; 1] floating point numbers:\n"
   ]
  },
  {
   "cell_type": "code",
   "execution_count": 120,
   "metadata": {},
   "outputs": [],
   "source": [
    "#print(x)\n",
    "#print(x[1,2])\n",
    "\n",
    "max_x0 = 0\n",
    "max_x1 = 0\n",
    "max_x2 = 0\n",
    "\n",
    "for i in range(len(x)):  # we could also use numpy.amax() function\n",
    "    if x[i, 0] > max_x0:\n",
    "        max_x0 = x[i, 0]\n",
    "        \n",
    "    if x[i, 1] > max_x1:\n",
    "        max_x1 = x[i, 1]\n",
    "        \n",
    "    if x[i, 2] > max_x2:\n",
    "        max_x2 = x[i, 2]\n",
    "        \n",
    "#print('maximum values : ', max_x0, max_x1, max_x2)\n",
    "    \n",
    "x[:,0] = x[:,0] / max_x0\n",
    "x[:,1] = x[:,1] / max_x1\n",
    "x[:,2] = x[:,2] / max_x2\n",
    "\n",
    "#print(x)\n"
   ]
  },
  {
   "cell_type": "markdown",
   "metadata": {},
   "source": [
    "### Encoding labels into one-hot encoded values:\n"
   ]
  },
  {
   "cell_type": "code",
   "execution_count": 121,
   "metadata": {},
   "outputs": [],
   "source": [
    "#print(len(y))\n",
    "y_hot = np.zeros((len(y), 5))  # y_hot is a len(y)x5 matrix\n",
    "\n",
    "for i in range(len(y)):  # we could also use sklearn.preprocessing.OneHotEncoder() function\n",
    "    if y[i]==0:\n",
    "        y_hot[i, 0] = 1\n",
    "    elif y[i]==1:\n",
    "        y_hot[i, 1] = 1\n",
    "    elif y[i]==2:\n",
    "        y_hot[i, 2] = 1\n",
    "    elif y[i]==3:\n",
    "        y_hot[i, 3] = 1\n",
    "    elif y[i]==4:\n",
    "        y_hot[i, 4] = 1\n",
    "\n",
    "#print('y not encoded')\n",
    "#print(y)\n",
    "\n",
    "y = y_hot\n",
    "\n",
    "#print('one-hot encoded y')\n",
    "#print(y)"
   ]
  },
  {
   "cell_type": "code",
   "execution_count": 122,
   "metadata": {},
   "outputs": [],
   "source": [
    "# dataset split - 90% 10% - you can try something else\n",
    "\n",
    "x_train, x_valid, y_train, y_valid = sklearn.model_selection.train_test_split(x, y, test_size=0.1, random_state=0)"
   ]
  },
  {
   "cell_type": "markdown",
   "metadata": {},
   "source": [
    "### Model definition:\n"
   ]
  },
  {
   "cell_type": "code",
   "execution_count": 138,
   "metadata": {},
   "outputs": [],
   "source": [
    "model = Sequential([\n",
    "    Dense(3, input_shape=(3,)),\n",
    "    Activation('relu'),\n",
    "    #Dropout(0.3),\n",
    "    Dense(5),\n",
    "    Activation('softmax'),\n",
    "])\n",
    "\n",
    "model.compile(optimizer='adam',\n",
    "              loss='categorical_crossentropy',\n",
    "              metrics=['accuracy'])\n",
    "#model.summary()\n",
    "\n",
    "callback_early_stopping = keras.callbacks.EarlyStopping(monitor='val_loss', patience=10, verbose=0, mode='auto')"
   ]
  },
  {
   "cell_type": "markdown",
   "metadata": {},
   "source": [
    "### Model training:\n"
   ]
  },
  {
   "cell_type": "code",
   "execution_count": 140,
   "metadata": {},
   "outputs": [],
   "source": [
    "history = model.fit(x_train, y_train, epochs=150, batch_size=100, \n",
    "                    validation_data=(x_valid, y_valid), verbose=1, callbacks=[callback_early_stopping])"
   ]
  },
  {
   "cell_type": "code",
   "execution_count": 141,
   "metadata": {},
   "outputs": [],
   "source": [
    "# summarize history for loss\n",
    "plt.plot(history.history['acc'])\n",
    "plt.plot(history.history['val_acc'])\n",
    "plt.title('model accuracy')\n",
    "plt.ylabel('accuracy')\n",
    "plt.xlabel('epoch')\n",
    "plt.legend(['train', 'validation'], loc='upper left')\n",
    "plt.show()"
   ]
  },
  {
   "cell_type": "markdown",
   "metadata": {},
   "source": [
    "### Model testing (hand-made):\n"
   ]
  },
  {
   "cell_type": "code",
   "execution_count": 146,
   "metadata": {},
   "outputs": [],
   "source": [
    "i = 3  # pick the i+1th sample and predict the outcome\n",
    "\n",
    "#print('x = ', x_train[i])\n",
    "x_expanded = np.expand_dims(x_train[i], 0)  \n",
    "#print(x_expanded)\n",
    "\n",
    "y_i = model.predict(x_expanded)  # predict a label value\n",
    "#print('Predicted y = ', y_i)\n",
    "#print('Real y = ', y_train[i])  # print the true label"
   ]
  }
 ],
 "metadata": {
  "kernelspec": {
   "display_name": "Python 3",
   "language": "python",
   "name": "python3"
  },
  "language_info": {
   "codemirror_mode": {
    "name": "ipython",
    "version": 3
   },
   "file_extension": ".py",
   "mimetype": "text/x-python",
   "name": "python",
   "nbconvert_exporter": "python",
   "pygments_lexer": "ipython3",
   "version": "3.5.2"
  }
 },
 "nbformat": 4,
 "nbformat_minor": 2
}

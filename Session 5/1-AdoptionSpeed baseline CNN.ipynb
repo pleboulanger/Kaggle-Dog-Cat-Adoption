{
 "cells": [
  {
   "cell_type": "code",
   "execution_count": 15,
   "metadata": {},
   "outputs": [],
   "source": [
    "import matplotlib.pyplot as plt\n",
    "import numpy as np\n",
    "import keras\n",
    "from keras.preprocessing.image import ImageDataGenerator\n",
    "from keras.models import Sequential\n",
    "from keras.layers import Dense, Dropout, Flatten\n",
    "from keras.layers import Conv2D, MaxPooling2D\n",
    "from keras.metrics import categorical_accuracy as acc\n",
    "from keras.optimizers import SGD\n",
    "\n",
    "from sklearn.metrics import cohen_kappa_score\n"
   ]
  },
  {
   "cell_type": "code",
   "execution_count": 16,
   "metadata": {},
   "outputs": [],
   "source": [
    "# define the metric\n",
    "\n",
    "def custom_metric(y1,y2):\n",
    "    return cohen_kappa_score(y1, y2, weights = 'quadratic')"
   ]
  },
  {
   "cell_type": "code",
   "execution_count": 18,
   "metadata": {},
   "outputs": [
    {
     "name": "stdout",
     "output_type": "stream",
     "text": [
      "_________________________________________________________________\n",
      "Layer (type)                 Output Shape              Param #   \n",
      "=================================================================\n",
      "conv2d_25 (Conv2D)           (None, 204, 204, 32)      896       \n",
      "_________________________________________________________________\n",
      "max_pooling2d_25 (MaxPooling (None, 102, 102, 32)      0         \n",
      "_________________________________________________________________\n",
      "conv2d_26 (Conv2D)           (None, 100, 100, 64)      18496     \n",
      "_________________________________________________________________\n",
      "max_pooling2d_26 (MaxPooling (None, 50, 50, 64)        0         \n",
      "_________________________________________________________________\n",
      "conv2d_27 (Conv2D)           (None, 48, 48, 128)       73856     \n",
      "_________________________________________________________________\n",
      "max_pooling2d_27 (MaxPooling (None, 24, 24, 128)       0         \n",
      "_________________________________________________________________\n",
      "flatten_9 (Flatten)          (None, 73728)             0         \n",
      "_________________________________________________________________\n",
      "dense_17 (Dense)             (None, 64)                4718656   \n",
      "_________________________________________________________________\n",
      "dense_18 (Dense)             (None, 5)                 325       \n",
      "=================================================================\n",
      "Total params: 4,812,229\n",
      "Trainable params: 4,812,229\n",
      "Non-trainable params: 0\n",
      "_________________________________________________________________\n"
     ]
    }
   ],
   "source": [
    "# model design\n",
    "\n",
    "model = Sequential()\n",
    "model.add(Conv2D(32, (3, 3), activation='relu', input_shape=(206,206,3)))\n",
    "model.add(MaxPooling2D(pool_size=(2, 2)))\n",
    "\n",
    "model.add(Conv2D(64, (3, 3), activation='relu'))\n",
    "model.add(MaxPooling2D(pool_size=(2, 2)))\n",
    "\n",
    "model.add(Conv2D(128, (3, 3), activation='relu'))\n",
    "model.add(MaxPooling2D(pool_size=(2, 2)))\n",
    "\n",
    "model.add(Flatten())\n",
    "model.add(Dense(64, activation='relu'))\n",
    "model.add(Dense(5, activation='softmax'))\n",
    "\n",
    "sgd = SGD(lr=0.01, decay=1e-6, momentum=0.9, nesterov=True)\n",
    "model.compile(loss='categorical_crossentropy', optimizer=sgd, metrics=[acc])\n",
    "\n",
    "model.summary()"
   ]
  },
  {
   "cell_type": "code",
   "execution_count": 19,
   "metadata": {},
   "outputs": [
    {
     "name": "stdout",
     "output_type": "stream",
     "text": [
      "Found 10275 images belonging to 5 classes.\n",
      "Found 2915 images belonging to 5 classes.\n"
     ]
    }
   ],
   "source": [
    "# train set and validation set\n",
    "\n",
    "train_datagen = ImageDataGenerator(rescale=1./255)\n",
    "validation_datagen = ImageDataGenerator(rescale=1./255)\n",
    "test_datagen = ImageDataGenerator(rescale=1./255)\n",
    "\n",
    "train_generator = train_datagen.flow_from_directory(\n",
    "        'dataset/train',\n",
    "        target_size=(206, 206),\n",
    "        batch_size=20,\n",
    "        classes=['0', '1', '2', '3', '4'],\n",
    "        class_mode='categorical')\n",
    "\n",
    "validation_generator = test_datagen.flow_from_directory(\n",
    "        'dataset/validation',\n",
    "        target_size=(206, 206),\n",
    "        batch_size=20,\n",
    "        classes=['0', '1', '2', '3', '4'],\n",
    "        class_mode='categorical')"
   ]
  },
  {
   "cell_type": "code",
   "execution_count": 20,
   "metadata": {},
   "outputs": [
    {
     "name": "stdout",
     "output_type": "stream",
     "text": [
      "Epoch 1/15\n",
      "513/513 [==============================] - 58s 113ms/step - loss: 1.4729 - categorical_accuracy: 0.2699 - val_loss: 1.4658 - val_categorical_accuracy: 0.2786\n",
      "Epoch 2/15\n",
      "513/513 [==============================] - 57s 111ms/step - loss: 1.4684 - categorical_accuracy: 0.2703 - val_loss: 1.4636 - val_categorical_accuracy: 0.2639\n",
      "Epoch 3/15\n",
      "513/513 [==============================] - 57s 111ms/step - loss: 1.4606 - categorical_accuracy: 0.2820 - val_loss: 1.4627 - val_categorical_accuracy: 0.2922\n",
      "Epoch 4/15\n",
      "513/513 [==============================] - 57s 111ms/step - loss: 1.4531 - categorical_accuracy: 0.2892 - val_loss: 1.4758 - val_categorical_accuracy: 0.2829\n",
      "Epoch 5/15\n",
      "513/513 [==============================] - 57s 111ms/step - loss: 1.4350 - categorical_accuracy: 0.3086 - val_loss: 1.4872 - val_categorical_accuracy: 0.2383\n",
      "Epoch 6/15\n",
      "513/513 [==============================] - 57s 111ms/step - loss: 1.3949 - categorical_accuracy: 0.3565 - val_loss: 1.4833 - val_categorical_accuracy: 0.2636\n",
      "Epoch 7/15\n",
      "513/513 [==============================] - 57s 111ms/step - loss: 1.2977 - categorical_accuracy: 0.4177 - val_loss: 1.5824 - val_categorical_accuracy: 0.2898\n",
      "Epoch 8/15\n",
      "513/513 [==============================] - 57s 111ms/step - loss: 1.0979 - categorical_accuracy: 0.5327 - val_loss: 1.8322 - val_categorical_accuracy: 0.2494\n",
      "Epoch 9/15\n",
      "513/513 [==============================] - 57s 111ms/step - loss: 0.7305 - categorical_accuracy: 0.7126 - val_loss: 2.4045 - val_categorical_accuracy: 0.2528\n",
      "Epoch 10/15\n",
      "513/513 [==============================] - 57s 112ms/step - loss: 0.4284 - categorical_accuracy: 0.8472 - val_loss: 2.7359 - val_categorical_accuracy: 0.2560\n",
      "Epoch 11/15\n",
      "513/513 [==============================] - 57s 112ms/step - loss: 0.2829 - categorical_accuracy: 0.9123 - val_loss: 3.0256 - val_categorical_accuracy: 0.2508\n",
      "Epoch 12/15\n",
      "513/513 [==============================] - 57s 112ms/step - loss: 0.2102 - categorical_accuracy: 0.9402 - val_loss: 3.5251 - val_categorical_accuracy: 0.2649\n",
      "Epoch 13/15\n",
      "513/513 [==============================] - 57s 111ms/step - loss: 0.1469 - categorical_accuracy: 0.9565 - val_loss: 4.3778 - val_categorical_accuracy: 0.2528\n",
      "Epoch 14/15\n",
      "513/513 [==============================] - 57s 112ms/step - loss: 0.1052 - categorical_accuracy: 0.9720 - val_loss: 4.7697 - val_categorical_accuracy: 0.2653\n",
      "Epoch 15/15\n",
      "513/513 [==============================] - 57s 111ms/step - loss: 0.0881 - categorical_accuracy: 0.9768 - val_loss: 5.3197 - val_categorical_accuracy: 0.2518\n"
     ]
    }
   ],
   "source": [
    "\n",
    "history = model.fit_generator(\n",
    "        train_generator,\n",
    "        steps_per_epoch=513,\n",
    "        epochs=15,\n",
    "        validation_data=validation_generator,\n",
    "        validation_steps=145)"
   ]
  },
  {
   "cell_type": "code",
   "execution_count": 22,
   "metadata": {},
   "outputs": [
    {
     "name": "stdout",
     "output_type": "stream",
     "text": [
      "dict_keys(['val_categorical_accuracy', 'loss', 'val_loss', 'categorical_accuracy'])\n"
     ]
    },
    {
     "data": {
      "image/png": "[encoded data removed]",
      "text/plain": [
       "<Figure size 432x288 with 1 Axes>"
      ]
     },
     "metadata": {
      "needs_background": "light"
     },
     "output_type": "display_data"
    },
    {
     "data": {
      "image/png": "[encoded data removed]",
      "text/plain": [
       "<Figure size 432x288 with 1 Axes>"
      ]
     },
     "metadata": {
      "needs_background": "light"
     },
     "output_type": "display_data"
    }
   ],
   "source": [
    "# list all data in history\n",
    "print(history.history.keys())\n",
    "\n",
    "# summarize history for accuracy\n",
    "plt.plot(history.history['categorical_accuracy'])\n",
    "plt.plot(history.history['val_categorical_accuracy'])\n",
    "plt.title('model accuracy')\n",
    "plt.ylabel('accuracy')\n",
    "plt.xlabel('epoch')\n",
    "plt.legend(['train', 'test'], loc='upper left')\n",
    "plt.show()\n",
    "\n",
    "# summarize history for loss\n",
    "plt.plot(history.history['loss'])\n",
    "plt.plot(history.history['val_loss'])\n",
    "plt.title('model loss')\n",
    "plt.ylabel('loss')\n",
    "plt.xlabel('epoch')\n",
    "plt.legend(['train', 'validation'], loc='upper left')\n",
    "plt.show()\n"
   ]
  },
  {
   "cell_type": "code",
   "execution_count": 19,
   "metadata": {},
   "outputs": [],
   "source": [
    "# save the model\n",
    "\n",
    "model.save('Baseline_CNN_t10275_v2915_e15.h5')"
   ]
  },
  {
   "cell_type": "code",
   "execution_count": 24,
   "metadata": {},
   "outputs": [
    {
     "name": "stdout",
     "output_type": "stream",
     "text": [
      "Found 1462 images belonging to 5 classes.\n"
     ]
    }
   ],
   "source": [
    "test_generator = test_datagen.flow_from_directory(\n",
    "    'dataset/test',\n",
    "    target_size=(206, 206),\n",
    "    batch_size=10,\n",
    "    classes=['0', '1', '2', '3', '4'],\n",
    "    class_mode='categorical')"
   ]
  },
  {
   "cell_type": "code",
   "execution_count": 25,
   "metadata": {},
   "outputs": [
    {
     "name": "stdout",
     "output_type": "stream",
     "text": [
      "146/146 [==============================] - 7s 45ms/step\n"
     ]
    }
   ],
   "source": [
    "# test the model on unseen data\n",
    "\n",
    "results = model.evaluate_generator(\n",
    "    test_generator,\n",
    "    verbose=1,\n",
    "    steps=146)"
   ]
  },
  {
   "cell_type": "code",
   "execution_count": 26,
   "metadata": {},
   "outputs": [
    {
     "name": "stdout",
     "output_type": "stream",
     "text": [
      "Final test accuracy: [5.075392963951582, 0.23835616987453748]\n"
     ]
    }
   ],
   "source": [
    "print('Final test accuracy:', (results))\n"
   ]
  }
 ],
 "metadata": {
  "kernelspec": {
   "display_name": "Python 3",
   "language": "python",
   "name": "python3"
  },
  "language_info": {
   "codemirror_mode": {
    "name": "ipython",
    "version": 3
   },
   "file_extension": ".py",
   "mimetype": "text/x-python",
   "name": "python",
   "nbconvert_exporter": "python",
   "pygments_lexer": "ipython3",
   "version": "3.5.2"
  }
 },
 "nbformat": 4,
 "nbformat_minor": 2
}
